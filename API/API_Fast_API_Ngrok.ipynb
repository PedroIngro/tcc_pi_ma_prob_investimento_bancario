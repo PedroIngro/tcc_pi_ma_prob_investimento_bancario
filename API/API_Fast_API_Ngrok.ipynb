{
  "nbformat": 4,
  "nbformat_minor": 0,
  "metadata": {
    "colab": {
      "provenance": []
    },
    "kernelspec": {
      "name": "python3",
      "display_name": "Python 3"
    },
    "language_info": {
      "name": "python"
    }
  },
  "cells": [
    {
      "cell_type": "markdown",
      "source": [
        "## Bibliotecas a serem Instaladas"
      ],
      "metadata": {
        "id": "Kv5A8aCKUoE_"
      }
    },
    {
      "cell_type": "code",
      "source": [
        "!pip install fastapi pyngrok flask_ngrok\n",
        "!pip install nest-asyncio uvicorn"
      ],
      "metadata": {
        "id": "x-Uev-w3E_AA",
        "colab": {
          "base_uri": "https://localhost:8080/"
        },
        "outputId": "84ed93d9-faf5-4364-a157-1aee64dc5300"
      },
      "execution_count": 1,
      "outputs": [
        {
          "output_type": "stream",
          "name": "stdout",
          "text": [
            "Collecting fastapi\n",
            "  Downloading fastapi-0.111.0-py3-none-any.whl (91 kB)\n",
            "\u001b[2K     \u001b[90m━━━━━━━━━━━━━━━━━━━━━━━━━━━━━━━━━━━━━━━━\u001b[0m \u001b[32m92.0/92.0 kB\u001b[0m \u001b[31m2.3 MB/s\u001b[0m eta \u001b[36m0:00:00\u001b[0m\n",
            "\u001b[?25hCollecting pyngrok\n",
            "  Downloading pyngrok-7.1.6-py3-none-any.whl (22 kB)\n",
            "Collecting flask_ngrok\n",
            "  Downloading flask_ngrok-0.0.25-py3-none-any.whl (3.1 kB)\n",
            "Collecting starlette<0.38.0,>=0.37.2 (from fastapi)\n",
            "  Downloading starlette-0.37.2-py3-none-any.whl (71 kB)\n",
            "\u001b[2K     \u001b[90m━━━━━━━━━━━━━━━━━━━━━━━━━━━━━━━━━━━━━━━━\u001b[0m \u001b[32m71.9/71.9 kB\u001b[0m \u001b[31m7.2 MB/s\u001b[0m eta \u001b[36m0:00:00\u001b[0m\n",
            "\u001b[?25hRequirement already satisfied: pydantic!=1.8,!=1.8.1,!=2.0.0,!=2.0.1,!=2.1.0,<3.0.0,>=1.7.4 in /usr/local/lib/python3.10/dist-packages (from fastapi) (2.7.1)\n",
            "Requirement already satisfied: typing-extensions>=4.8.0 in /usr/local/lib/python3.10/dist-packages (from fastapi) (4.11.0)\n",
            "Collecting fastapi-cli>=0.0.2 (from fastapi)\n",
            "  Downloading fastapi_cli-0.0.2-py3-none-any.whl (9.1 kB)\n",
            "Collecting httpx>=0.23.0 (from fastapi)\n",
            "  Downloading httpx-0.27.0-py3-none-any.whl (75 kB)\n",
            "\u001b[2K     \u001b[90m━━━━━━━━━━━━━━━━━━━━━━━━━━━━━━━━━━━━━━━━\u001b[0m \u001b[32m75.6/75.6 kB\u001b[0m \u001b[31m7.5 MB/s\u001b[0m eta \u001b[36m0:00:00\u001b[0m\n",
            "\u001b[?25hRequirement already satisfied: jinja2>=2.11.2 in /usr/local/lib/python3.10/dist-packages (from fastapi) (3.1.3)\n",
            "Collecting python-multipart>=0.0.7 (from fastapi)\n",
            "  Downloading python_multipart-0.0.9-py3-none-any.whl (22 kB)\n",
            "Collecting ujson!=4.0.2,!=4.1.0,!=4.2.0,!=4.3.0,!=5.0.0,!=5.1.0,>=4.0.1 (from fastapi)\n",
            "  Downloading ujson-5.9.0-cp310-cp310-manylinux_2_17_x86_64.manylinux2014_x86_64.whl (53 kB)\n",
            "\u001b[2K     \u001b[90m━━━━━━━━━━━━━━━━━━━━━━━━━━━━━━━━━━━━━━━━\u001b[0m \u001b[32m53.2/53.2 kB\u001b[0m \u001b[31m5.3 MB/s\u001b[0m eta \u001b[36m0:00:00\u001b[0m\n",
            "\u001b[?25hCollecting orjson>=3.2.1 (from fastapi)\n",
            "  Downloading orjson-3.10.3-cp310-cp310-manylinux_2_17_x86_64.manylinux2014_x86_64.whl (142 kB)\n",
            "\u001b[2K     \u001b[90m━━━━━━━━━━━━━━━━━━━━━━━━━━━━━━━━━━━━━━━━\u001b[0m \u001b[32m142.5/142.5 kB\u001b[0m \u001b[31m13.5 MB/s\u001b[0m eta \u001b[36m0:00:00\u001b[0m\n",
            "\u001b[?25hCollecting email_validator>=2.0.0 (from fastapi)\n",
            "  Downloading email_validator-2.1.1-py3-none-any.whl (30 kB)\n",
            "Collecting uvicorn[standard]>=0.12.0 (from fastapi)\n",
            "  Downloading uvicorn-0.29.0-py3-none-any.whl (60 kB)\n",
            "\u001b[2K     \u001b[90m━━━━━━━━━━━━━━━━━━━━━━━━━━━━━━━━━━━━━━━━\u001b[0m \u001b[32m60.8/60.8 kB\u001b[0m \u001b[31m7.2 MB/s\u001b[0m eta \u001b[36m0:00:00\u001b[0m\n",
            "\u001b[?25hRequirement already satisfied: PyYAML>=5.1 in /usr/local/lib/python3.10/dist-packages (from pyngrok) (6.0.1)\n",
            "Requirement already satisfied: Flask>=0.8 in /usr/local/lib/python3.10/dist-packages (from flask_ngrok) (2.2.5)\n",
            "Requirement already satisfied: requests in /usr/local/lib/python3.10/dist-packages (from flask_ngrok) (2.31.0)\n",
            "Collecting dnspython>=2.0.0 (from email_validator>=2.0.0->fastapi)\n",
            "  Downloading dnspython-2.6.1-py3-none-any.whl (307 kB)\n",
            "\u001b[2K     \u001b[90m━━━━━━━━━━━━━━━━━━━━━━━━━━━━━━━━━━━━━━━━\u001b[0m \u001b[32m307.7/307.7 kB\u001b[0m \u001b[31m27.4 MB/s\u001b[0m eta \u001b[36m0:00:00\u001b[0m\n",
            "\u001b[?25hRequirement already satisfied: idna>=2.0.0 in /usr/local/lib/python3.10/dist-packages (from email_validator>=2.0.0->fastapi) (3.7)\n",
            "Collecting typer>=0.12.3 (from fastapi-cli>=0.0.2->fastapi)\n",
            "  Downloading typer-0.12.3-py3-none-any.whl (47 kB)\n",
            "\u001b[2K     \u001b[90m━━━━━━━━━━━━━━━━━━━━━━━━━━━━━━━━━━━━━━━━\u001b[0m \u001b[32m47.2/47.2 kB\u001b[0m \u001b[31m5.3 MB/s\u001b[0m eta \u001b[36m0:00:00\u001b[0m\n",
            "\u001b[?25hRequirement already satisfied: Werkzeug>=2.2.2 in /usr/local/lib/python3.10/dist-packages (from Flask>=0.8->flask_ngrok) (3.0.2)\n",
            "Requirement already satisfied: itsdangerous>=2.0 in /usr/local/lib/python3.10/dist-packages (from Flask>=0.8->flask_ngrok) (2.2.0)\n",
            "Requirement already satisfied: click>=8.0 in /usr/local/lib/python3.10/dist-packages (from Flask>=0.8->flask_ngrok) (8.1.7)\n",
            "Requirement already satisfied: anyio in /usr/local/lib/python3.10/dist-packages (from httpx>=0.23.0->fastapi) (3.7.1)\n",
            "Requirement already satisfied: certifi in /usr/local/lib/python3.10/dist-packages (from httpx>=0.23.0->fastapi) (2024.2.2)\n",
            "Collecting httpcore==1.* (from httpx>=0.23.0->fastapi)\n",
            "  Downloading httpcore-1.0.5-py3-none-any.whl (77 kB)\n",
            "\u001b[2K     \u001b[90m━━━━━━━━━━━━━━━━━━━━━━━━━━━━━━━━━━━━━━━━\u001b[0m \u001b[32m77.9/77.9 kB\u001b[0m \u001b[31m8.2 MB/s\u001b[0m eta \u001b[36m0:00:00\u001b[0m\n",
            "\u001b[?25hRequirement already satisfied: sniffio in /usr/local/lib/python3.10/dist-packages (from httpx>=0.23.0->fastapi) (1.3.1)\n",
            "Collecting h11<0.15,>=0.13 (from httpcore==1.*->httpx>=0.23.0->fastapi)\n",
            "  Downloading h11-0.14.0-py3-none-any.whl (58 kB)\n",
            "\u001b[2K     \u001b[90m━━━━━━━━━━━━━━━━━━━━━━━━━━━━━━━━━━━━━━━━\u001b[0m \u001b[32m58.3/58.3 kB\u001b[0m \u001b[31m4.8 MB/s\u001b[0m eta \u001b[36m0:00:00\u001b[0m\n",
            "\u001b[?25hRequirement already satisfied: MarkupSafe>=2.0 in /usr/local/lib/python3.10/dist-packages (from jinja2>=2.11.2->fastapi) (2.1.5)\n",
            "Requirement already satisfied: annotated-types>=0.4.0 in /usr/local/lib/python3.10/dist-packages (from pydantic!=1.8,!=1.8.1,!=2.0.0,!=2.0.1,!=2.1.0,<3.0.0,>=1.7.4->fastapi) (0.6.0)\n",
            "Requirement already satisfied: pydantic-core==2.18.2 in /usr/local/lib/python3.10/dist-packages (from pydantic!=1.8,!=1.8.1,!=2.0.0,!=2.0.1,!=2.1.0,<3.0.0,>=1.7.4->fastapi) (2.18.2)\n",
            "Collecting httptools>=0.5.0 (from uvicorn[standard]>=0.12.0->fastapi)\n",
            "  Downloading httptools-0.6.1-cp310-cp310-manylinux_2_5_x86_64.manylinux1_x86_64.manylinux_2_17_x86_64.manylinux2014_x86_64.whl (341 kB)\n",
            "\u001b[2K     \u001b[90m━━━━━━━━━━━━━━━━━━━━━━━━━━━━━━━━━━━━━━━━\u001b[0m \u001b[32m341.4/341.4 kB\u001b[0m \u001b[31m27.1 MB/s\u001b[0m eta \u001b[36m0:00:00\u001b[0m\n",
            "\u001b[?25hCollecting python-dotenv>=0.13 (from uvicorn[standard]>=0.12.0->fastapi)\n",
            "  Downloading python_dotenv-1.0.1-py3-none-any.whl (19 kB)\n",
            "Collecting uvloop!=0.15.0,!=0.15.1,>=0.14.0 (from uvicorn[standard]>=0.12.0->fastapi)\n",
            "  Downloading uvloop-0.19.0-cp310-cp310-manylinux_2_17_x86_64.manylinux2014_x86_64.whl (3.4 MB)\n",
            "\u001b[2K     \u001b[90m━━━━━━━━━━━━━━━━━━━━━━━━━━━━━━━━━━━━━━━━\u001b[0m \u001b[32m3.4/3.4 MB\u001b[0m \u001b[31m55.0 MB/s\u001b[0m eta \u001b[36m0:00:00\u001b[0m\n",
            "\u001b[?25hCollecting watchfiles>=0.13 (from uvicorn[standard]>=0.12.0->fastapi)\n",
            "  Downloading watchfiles-0.21.0-cp310-cp310-manylinux_2_17_x86_64.manylinux2014_x86_64.whl (1.3 MB)\n",
            "\u001b[2K     \u001b[90m━━━━━━━━━━━━━━━━━━━━━━━━━━━━━━━━━━━━━━━━\u001b[0m \u001b[32m1.3/1.3 MB\u001b[0m \u001b[31m44.8 MB/s\u001b[0m eta \u001b[36m0:00:00\u001b[0m\n",
            "\u001b[?25hCollecting websockets>=10.4 (from uvicorn[standard]>=0.12.0->fastapi)\n",
            "  Downloading websockets-12.0-cp310-cp310-manylinux_2_5_x86_64.manylinux1_x86_64.manylinux_2_17_x86_64.manylinux2014_x86_64.whl (130 kB)\n",
            "\u001b[2K     \u001b[90m━━━━━━━━━━━━━━━━━━━━━━━━━━━━━━━━━━━━━━━━\u001b[0m \u001b[32m130.2/130.2 kB\u001b[0m \u001b[31m15.3 MB/s\u001b[0m eta \u001b[36m0:00:00\u001b[0m\n",
            "\u001b[?25hRequirement already satisfied: charset-normalizer<4,>=2 in /usr/local/lib/python3.10/dist-packages (from requests->flask_ngrok) (3.3.2)\n",
            "Requirement already satisfied: urllib3<3,>=1.21.1 in /usr/local/lib/python3.10/dist-packages (from requests->flask_ngrok) (2.0.7)\n",
            "Requirement already satisfied: exceptiongroup in /usr/local/lib/python3.10/dist-packages (from anyio->httpx>=0.23.0->fastapi) (1.2.1)\n",
            "Collecting shellingham>=1.3.0 (from typer>=0.12.3->fastapi-cli>=0.0.2->fastapi)\n",
            "  Downloading shellingham-1.5.4-py2.py3-none-any.whl (9.8 kB)\n",
            "Requirement already satisfied: rich>=10.11.0 in /usr/local/lib/python3.10/dist-packages (from typer>=0.12.3->fastapi-cli>=0.0.2->fastapi) (13.7.1)\n",
            "Requirement already satisfied: markdown-it-py>=2.2.0 in /usr/local/lib/python3.10/dist-packages (from rich>=10.11.0->typer>=0.12.3->fastapi-cli>=0.0.2->fastapi) (3.0.0)\n",
            "Requirement already satisfied: pygments<3.0.0,>=2.13.0 in /usr/local/lib/python3.10/dist-packages (from rich>=10.11.0->typer>=0.12.3->fastapi-cli>=0.0.2->fastapi) (2.16.1)\n",
            "Requirement already satisfied: mdurl~=0.1 in /usr/local/lib/python3.10/dist-packages (from markdown-it-py>=2.2.0->rich>=10.11.0->typer>=0.12.3->fastapi-cli>=0.0.2->fastapi) (0.1.2)\n",
            "Installing collected packages: websockets, uvloop, ujson, shellingham, python-multipart, python-dotenv, pyngrok, orjson, httptools, h11, dnspython, watchfiles, uvicorn, starlette, httpcore, email_validator, typer, httpx, flask_ngrok, fastapi-cli, fastapi\n",
            "  Attempting uninstall: typer\n",
            "    Found existing installation: typer 0.9.4\n",
            "    Uninstalling typer-0.9.4:\n",
            "      Successfully uninstalled typer-0.9.4\n",
            "\u001b[31mERROR: pip's dependency resolver does not currently take into account all the packages that are installed. This behaviour is the source of the following dependency conflicts.\n",
            "spacy 3.7.4 requires typer<0.10.0,>=0.3.0, but you have typer 0.12.3 which is incompatible.\n",
            "weasel 0.3.4 requires typer<0.10.0,>=0.3.0, but you have typer 0.12.3 which is incompatible.\u001b[0m\u001b[31m\n",
            "\u001b[0mSuccessfully installed dnspython-2.6.1 email_validator-2.1.1 fastapi-0.111.0 fastapi-cli-0.0.2 flask_ngrok-0.0.25 h11-0.14.0 httpcore-1.0.5 httptools-0.6.1 httpx-0.27.0 orjson-3.10.3 pyngrok-7.1.6 python-dotenv-1.0.1 python-multipart-0.0.9 shellingham-1.5.4 starlette-0.37.2 typer-0.12.3 ujson-5.9.0 uvicorn-0.29.0 uvloop-0.19.0 watchfiles-0.21.0 websockets-12.0\n",
            "Requirement already satisfied: nest-asyncio in /usr/local/lib/python3.10/dist-packages (1.6.0)\n",
            "Requirement already satisfied: uvicorn in /usr/local/lib/python3.10/dist-packages (0.29.0)\n",
            "Requirement already satisfied: click>=7.0 in /usr/local/lib/python3.10/dist-packages (from uvicorn) (8.1.7)\n",
            "Requirement already satisfied: h11>=0.8 in /usr/local/lib/python3.10/dist-packages (from uvicorn) (0.14.0)\n",
            "Requirement already satisfied: typing-extensions>=4.0 in /usr/local/lib/python3.10/dist-packages (from uvicorn) (4.11.0)\n"
          ]
        }
      ]
    },
    {
      "cell_type": "markdown",
      "source": [
        "## Templates HTML's"
      ],
      "metadata": {
        "id": "p38onxKgU0Y0"
      }
    },
    {
      "cell_type": "code",
      "execution_count": 18,
      "metadata": {
        "id": "F2O4dPDg6rqV"
      },
      "outputs": [],
      "source": [
        "%mkdir templates -p"
      ]
    },
    {
      "cell_type": "code",
      "source": [
        "%%writefile templates/index.html\n",
        "\n",
        "<!DOCTYPE html>\n",
        "<html lang=\"en\">\n",
        "<head>\n",
        "    <meta charset=\"UTF-8\">\n",
        "    <meta name=\"viewport\" content=\"width=device-width, initial-scale=1.0\">\n",
        "    <title>Home</title>\n",
        "    <style>\n",
        "        body {\n",
        "            font-family: Arial, sans-serif;\n",
        "            text-align: center;\n",
        "            background-color: #f2f2f2;\n",
        "        }\n",
        "        .container {\n",
        "            display: flex;\n",
        "            justify-content: center;\n",
        "            align-items: center;\n",
        "            height: 100vh;\n",
        "        }\n",
        "        .options-container {\n",
        "            width: 80vw;\n",
        "            max-width: 400px;\n",
        "            padding: 5vw;\n",
        "            background-color: white;\n",
        "            border-radius: 5vw;\n",
        "            box-shadow: 0px 0px 3vw rgba(0, 0, 0, 0.1);\n",
        "        }\n",
        "        h2 {\n",
        "            margin-bottom: 3vw;\n",
        "        }\n",
        "        .option {\n",
        "            margin-bottom: 3vw;\n",
        "        }\n",
        "        .option a {\n",
        "            text-decoration: none;\n",
        "            color: #333;\n",
        "            background-color: #ddd;\n",
        "            padding: 3vw;\n",
        "            border-radius: 2vw;\n",
        "            display: inline-block;\n",
        "            width: 100%;\n",
        "        }\n",
        "        .option a:hover {\n",
        "            background-color: #bbb;\n",
        "        }\n",
        "    </style>\n",
        "</head>\n",
        "<body>\n",
        "\n",
        "<div class=\"container\">\n",
        "    <div class=\"options-container\">\n",
        "        <h2>Escolha uma opção:</h2>\n",
        "        <div class=\"option\">\n",
        "            <a href=\"/csv_form\">Importar CSV</a>\n",
        "        </div>\n",
        "        <div class=\"option\">\n",
        "            <a href=\"/manual_form\">Preencher Manualmente</a>\n",
        "        </div>\n",
        "    </div>\n",
        "</div>\n",
        "\n",
        "</body>\n",
        "</html>"
      ],
      "metadata": {
        "colab": {
          "base_uri": "https://localhost:8080/"
        },
        "id": "0Ao6Pmp46xtj",
        "outputId": "fedfc7d9-9163-4239-a573-b13b971c496f"
      },
      "execution_count": 125,
      "outputs": [
        {
          "output_type": "stream",
          "name": "stdout",
          "text": [
            "Overwriting templates/index.html\n"
          ]
        }
      ]
    },
    {
      "cell_type": "code",
      "source": [
        "%%writefile templates/csv_form.html\n",
        "\n",
        "<!DOCTYPE html>\n",
        "<html>\n",
        "<head>\n",
        "  <title>Enviar Dados para API</title>\n",
        "  <style>\n",
        "    body {\n",
        "      font-family: Arial, sans-serif;\n",
        "      text-align: center;\n",
        "      background-color: #f2f2f2;\n",
        "    }\n",
        "    h2 {\n",
        "      margin-top: 20px;\n",
        "      margin-bottom: 10px;\n",
        "    }\n",
        "    form {\n",
        "      display: inline-block;\n",
        "      text-align: left;\n",
        "      background-color: white;\n",
        "      padding: 20px;\n",
        "      border-radius: 10px;\n",
        "      box-shadow: 0px 0px 10px rgba(0, 0, 0, 0.1);\n",
        "    }\n",
        "    label {\n",
        "      display: block;\n",
        "      margin-bottom: 5px;\n",
        "    }\n",
        "    input[type=\"file\"], input[type=\"submit\"] {\n",
        "      width: calc(100% - 22px); /* Desconta a largura do padding */\n",
        "      padding: 10px;\n",
        "      margin-bottom: 10px;\n",
        "      border: 1px solid #ccc;\n",
        "      border-radius: 5px;\n",
        "      box-sizing: border-box;\n",
        "    }\n",
        "    input[type=\"submit\"] {\n",
        "      background-color: #4CAF50;\n",
        "      color: white;\n",
        "      border: none;\n",
        "      cursor: pointer;\n",
        "    }\n",
        "    input[type=\"submit\"]:hover {\n",
        "      background-color: #45a049;\n",
        "    }\n",
        "  </style>\n",
        "</head>\n",
        "<body>\n",
        "\n",
        "<h2>Enviar Dados para API</h2>\n",
        "\n",
        "<form action=\"/csv_prediction\" method=\"post\" enctype=\"multipart/form-data\">\n",
        "  <label for=\"csv\">Enviar CSV:</label><br>\n",
        "  <input type=\"file\" id=\"csv\" name=\"csv\"><br><br>\n",
        "  <input type=\"submit\" value=\"Enviar CSV\">\n",
        "</form>\n",
        "\n",
        "</body>\n",
        "</html>"
      ],
      "metadata": {
        "colab": {
          "base_uri": "https://localhost:8080/"
        },
        "id": "iRAW1KFGkfCa",
        "outputId": "7dc5d546-b665-452e-da69-1dfd48343571"
      },
      "execution_count": 126,
      "outputs": [
        {
          "output_type": "stream",
          "name": "stdout",
          "text": [
            "Overwriting templates/csv_form.html\n"
          ]
        }
      ]
    },
    {
      "cell_type": "code",
      "source": [
        "%%writefile templates/manual_form.html\n",
        "\n",
        "<!DOCTYPE html>\n",
        "<html lang=\"en\">\n",
        "<head>\n",
        "    <meta charset=\"UTF-8\">\n",
        "    <meta name=\"viewport\" content=\"width=device-width, initial-scale=1.0\">\n",
        "    <title>Preenchimento Manual</title>\n",
        "    <style>\n",
        "        body {\n",
        "            font-family: Arial, sans-serif;\n",
        "            text-align: center;\n",
        "            background-color: #f2f2f2;\n",
        "        }\n",
        "        .container {\n",
        "            width: 80%;\n",
        "            max-width: 400px;\n",
        "            margin: 0 auto;\n",
        "            padding: 20px;\n",
        "            background-color: white;\n",
        "            border-radius: 10px;\n",
        "            box-shadow: 0px 0px 10px rgba(0, 0, 0, 0.1);\n",
        "        }\n",
        "        .form-group {\n",
        "            margin-bottom: 20px;\n",
        "            text-align: left;\n",
        "        }\n",
        "        label {\n",
        "            display: block;\n",
        "            margin-bottom: 5px;\n",
        "            font-weight: bold;\n",
        "        }\n",
        "        input[type=\"text\"],\n",
        "        select {\n",
        "            width: 100%;\n",
        "            padding: 10px;\n",
        "            border: 1px solid #ccc;\n",
        "            border-radius: 5px;\n",
        "            box-sizing: border-box;\n",
        "        }\n",
        "        button {\n",
        "            width: 100%;\n",
        "            padding: 10px;\n",
        "            background-color: #4CAF50;\n",
        "            color: white;\n",
        "            border: none;\n",
        "            border-radius: 5px;\n",
        "            cursor: pointer;\n",
        "        }\n",
        "        button:hover {\n",
        "            background-color: #45a049;\n",
        "        }\n",
        "    </style>\n",
        "</head>\n",
        "<body>\n",
        "\n",
        "<div class=\"container\">\n",
        "    <h2>Preenchimento Manual</h2>\n",
        "    <form action=\"/form_prediction\" method=\"post\">\n",
        "        <div class=\"form-group\">\n",
        "            <label for=\"age\">Idade:</label>\n",
        "            <input type=\"text\" id=\"age\" name=\"age\">\n",
        "        </div>\n",
        "        <div class=\"form-group\">\n",
        "            <label for=\"job\">Profissão:</label>\n",
        "            <select id=\"job\" name=\"job\">\n",
        "                <option value=\"admin.\">Admin</option>\n",
        "                <option value=\"unknown\">Desconhecido</option>\n",
        "                <option value=\"unemployed\">Desempregado</option>\n",
        "                <option value=\"management\">Gestão</option>\n",
        "                <option value=\"housemaid\">Empregada Doméstica</option>\n",
        "                <option value=\"entrepreneur\">Empreendedor</option>\n",
        "                <option value=\"student\">Estudante</option>\n",
        "                <option value=\"blue-collar\">Trabalhador de Colarinho Azul</option>\n",
        "                <option value=\"self-employed\">Autônomo</option>\n",
        "                <option value=\"retired\">Aposentado</option>\n",
        "                <option value=\"technician\">Técnico</option>\n",
        "                <option value=\"services\">Serviços</option>\n",
        "            </select>\n",
        "        </div>\n",
        "        <div class=\"form-group\">\n",
        "            <label for=\"marital\">Estado Civil:</label>\n",
        "            <select id=\"marital\" name=\"marital\">\n",
        "                <option value=\"married\">Casado(a)</option>\n",
        "                <option value=\"single\">Solteiro(a)</option>\n",
        "                <option value=\"divorced\">Divorciado(a)</option>\n",
        "            </select>\n",
        "        </div>\n",
        "        <div class=\"form-group\">\n",
        "            <label for=\"education\">Educação:</label>\n",
        "            <select id=\"education\" name=\"education\">\n",
        "                <option value=\"primary\">Primário</option>\n",
        "                <option value=\"secondary\">Secundário</option>\n",
        "                <option value=\"tertiary\">Terciário</option>\n",
        "            </select>\n",
        "        </div>\n",
        "        <div class=\"form-group\">\n",
        "            <label for=\"default\">Inadimplente:</label>\n",
        "            <select id=\"default\" name=\"default\">\n",
        "                <option value=\"no\">Não</option>\n",
        "                <option value=\"yes\">Sim</option>\n",
        "            </select>\n",
        "        </div>\n",
        "        <div class=\"form-group\">\n",
        "            <label for=\"balance\">Saldo:</label>\n",
        "            <input type=\"text\" id=\"balance\" name=\"balance\">\n",
        "        </div>\n",
        "        <div class=\"form-group\">\n",
        "            <label for=\"housing\">Possui Empréstimo Imobiliário:</label>\n",
        "            <select id=\"housing\" name=\"housing\">\n",
        "                <option value=\"no\">Não</option>\n",
        "                <option value=\"yes\">Sim</option>\n",
        "            </select>\n",
        "        </div>\n",
        "        <div class=\"form-group\">\n",
        "            <label for=\"loan\">Possui Empréstimo Pessoal:</label>\n",
        "            <select id=\"loan\" name=\"loan\">\n",
        "                <option value=\"no\">Não</option>\n",
        "                <option value=\"yes\">Sim</option>\n",
        "            </select>\n",
        "        </div>\n",
        "        <div class=\"form-group\">\n",
        "            <label for=\"contact\">Tipo de Contato:</label>\n",
        "            <select id=\"contact\" name=\"contact\">\n",
        "                <option value=\"cellular\">Celular</option>\n",
        "                <option value=\"telephone\">Telefone</option>\n",
        "            </select>\n",
        "        </div>\n",
        "        <div class=\"form-group\">\n",
        "            <label for=\"day\">Dia:</label>\n",
        "            <input type=\"text\" id=\"day\" name=\"day\">\n",
        "        </div>\n",
        "        <div class=\"form-group\">\n",
        "            <label for=\"month\">Mês:</label>\n",
        "            <input type=\"text\" id=\"month\" name=\"month\">\n",
        "        </div>\n",
        "        <div class=\"form-group\">\n",
        "            <label for=\"duration\">Duração da Ligação (segundos):</label>\n",
        "            <input type=\"text\" id=\"duration\" name=\"duration\">\n",
        "        </div>\n",
        "        <div class=\"form-group\">\n",
        "            <label for=\"campaign\">Número de Contatos durante a Campanha:</label>\n",
        "            <input type=\"text\" id=\"campaign\" name=\"campaign\">\n",
        "        </div>\n",
        "        <div class=\"form-group\">\n",
        "            <label for=\"pdays\">Dias desde o último contato:</label>\n",
        "            <input type=\"text\" id=\"pdays\" name=\"pdays\">\n",
        "        </div>\n",
        "        <div class=\"form-group\">\n",
        "            <label for=\"previous\">Número de Contatos Anteriores:</label>\n",
        "            <input type=\"text\" id=\"previous\" name=\"previous\">\n",
        "        </div>\n",
        "        <div class=\"form-group\">\n",
        "            <label for=\"poutcome\">Resultado da Última Campanha:</label>\n",
        "            <select id=\"poutcome\" name=\"poutcome\">\n",
        "                <option value=\"unknown\">Desconhecido</option>\n",
        "                <option value=\"failure\">Falha</option>\n",
        "                <option value=\"other\">Outro</option>\n",
        "                <option value=\"success\">Sucesso</option>\n",
        "            </select>\n",
        "        </div>\n",
        "        <button type=\"submit\">Enviar</button>\n",
        "    </form>\n",
        "</div>\n",
        "\n",
        "</body>\n",
        "</html>"
      ],
      "metadata": {
        "colab": {
          "base_uri": "https://localhost:8080/"
        },
        "id": "_ojfWFoYobNu",
        "outputId": "3608bf02-f0d1-4925-b09a-6c70b87ef504"
      },
      "execution_count": 127,
      "outputs": [
        {
          "output_type": "stream",
          "name": "stdout",
          "text": [
            "Overwriting templates/manual_form.html\n"
          ]
        }
      ]
    },
    {
      "cell_type": "code",
      "source": [
        "%%writefile templates/form_prediction.html\n",
        "\n",
        "<!DOCTYPE html>\n",
        "<html>\n",
        "<head>\n",
        "  <title>Dados do Formulário</title>\n",
        "  <style>\n",
        "    body {\n",
        "      font-family: Arial, sans-serif;\n",
        "      text-align: center;\n",
        "      background-color: #f2f2f2;\n",
        "    }\n",
        "    h1 {\n",
        "      margin-top: 50px;\n",
        "    }\n",
        "    table {\n",
        "      width: 80%;\n",
        "      margin: 20px auto;\n",
        "      border-collapse: collapse;\n",
        "    }\n",
        "    th, td {\n",
        "      padding: 8px;\n",
        "      border-bottom: 1px solid #ddd;\n",
        "    }\n",
        "    th {\n",
        "      background-color: #f2f2f2;\n",
        "    }\n",
        "  </style>\n",
        "</head>\n",
        "<body>\n",
        "\n",
        "<h1>Dados do Formulário</h1>\n",
        "\n",
        "<div>\n",
        "  <p>Aqui estão os dados do formulário:</p>\n",
        "  {{ dataframe|safe }}\n",
        "</div>\n",
        "\n",
        "</body>\n",
        "</html>"
      ],
      "metadata": {
        "colab": {
          "base_uri": "https://localhost:8080/"
        },
        "id": "t1B2qR2fb838",
        "outputId": "e52ebc96-d0f3-47a0-a3e4-8c663f7218e5"
      },
      "execution_count": 128,
      "outputs": [
        {
          "output_type": "stream",
          "name": "stdout",
          "text": [
            "Overwriting templates/form_prediction.html\n"
          ]
        }
      ]
    },
    {
      "cell_type": "code",
      "source": [
        "%%writefile templates/csv_prediction.html\n",
        "\n",
        "<!DOCTYPE html>\n",
        "<html>\n",
        "<head>\n",
        "  <title>Resultado da Previsão</title>\n",
        "  <style>\n",
        "    body {\n",
        "      font-family: Arial, sans-serif;\n",
        "      text-align: center;\n",
        "      background-color: lightblue;\n",
        "    }\n",
        "    h1 {\n",
        "      margin-top: 50px;\n",
        "    }\n",
        "    table {\n",
        "      width: 80%;\n",
        "      margin: 20px auto;\n",
        "      border-collapse: collapse;\n",
        "      text-align: center; /* Centraliza o conteúdo da tabela */\n",
        "    }\n",
        "    th, td {\n",
        "      padding: 8px;\n",
        "      border-bottom: 1px solid #ddd;\n",
        "    }\n",
        "    th {\n",
        "      background-color: #f2f2f2;\n",
        "      text-align: center; /* Centraliza os rótulos das colunas */\n",
        "    }\n",
        "    .container {\n",
        "      margin: 0 auto; /* Centraliza o conteúdo do div */\n",
        "      text-align: center; /* Centraliza o conteúdo do div */\n",
        "    }\n",
        "    .btn {\n",
        "      margin-top: 20px;\n",
        "      padding: 10px 20px;\n",
        "      background-color: #4CAF50;\n",
        "      color: white;\n",
        "      border: none;\n",
        "      border-radius: 5px;\n",
        "      cursor: pointer;\n",
        "    }\n",
        "    .btn:hover {\n",
        "      background-color: #45a049;\n",
        "    }\n",
        "  </style>\n",
        "</head>\n",
        "<body>\n",
        "\n",
        "<h1>Resultado da Previsão</h1>\n",
        "\n",
        "<div class=\"container\">\n",
        "  <p>Aqui está o DataFrame com os dados originais e a coluna de previsão:</p>\n",
        "  <table>\n",
        "    <thead>\n",
        "      <tr>\n",
        "        {% for column in predictions.columns %}\n",
        "        <th>{{ column }}</th>\n",
        "        {% endfor %}\n",
        "      </tr>\n",
        "    </thead>\n",
        "    <tbody>\n",
        "      {% for index, row in predictions.iterrows() %}\n",
        "      <tr>\n",
        "        {% for value in row %}\n",
        "        <td>{{ value }}</td>\n",
        "        {% endfor %}\n",
        "      </tr>\n",
        "      {% endfor %}\n",
        "    </tbody>\n",
        "  </table>\n",
        "  <button class=\"btn\" onclick=\"window.location.href='/'\">Voltar</button>\n",
        "</div>\n",
        "\n",
        "</body>\n",
        "</html>"
      ],
      "metadata": {
        "id": "xGoxtGRPHMoU",
        "outputId": "d6ecd260-b32d-4b2a-f0ae-879a505ee65d",
        "colab": {
          "base_uri": "https://localhost:8080/"
        }
      },
      "execution_count": 129,
      "outputs": [
        {
          "output_type": "stream",
          "name": "stdout",
          "text": [
            "Overwriting templates/csv_prediction.html\n"
          ]
        }
      ]
    },
    {
      "cell_type": "markdown",
      "source": [
        "## Importação de Bibliotecas"
      ],
      "metadata": {
        "id": "bpGPz6eAU3WT"
      }
    },
    {
      "cell_type": "code",
      "source": [
        "import os\n",
        "import threading"
      ],
      "metadata": {
        "id": "qYqMJg5-70WT"
      },
      "execution_count": 130,
      "outputs": []
    },
    {
      "cell_type": "code",
      "source": [
        "from google.colab import drive\n",
        "drive.mount('/content/drive')"
      ],
      "metadata": {
        "id": "aKOjqoW2pqza",
        "outputId": "9d5617e2-60c4-4e5d-8276-fb1b5f456c85",
        "colab": {
          "base_uri": "https://localhost:8080/"
        }
      },
      "execution_count": 131,
      "outputs": [
        {
          "output_type": "stream",
          "name": "stdout",
          "text": [
            "Drive already mounted at /content/drive; to attempt to forcibly remount, call drive.mount(\"/content/drive\", force_remount=True).\n"
          ]
        }
      ]
    },
    {
      "cell_type": "code",
      "source": [
        "import io\n",
        "import pickle\n",
        "import pandas as pd\n",
        "\n",
        "from pydantic import BaseModel\n",
        "from fastapi.templating import Jinja2Templates\n",
        "from fastapi.responses import HTMLResponse, JSONResponse\n",
        "from fastapi import FastAPI, Request, File, UploadFile, Form\n",
        "\n",
        "from sklearn.preprocessing import LabelEncoder\n",
        "\n",
        "import uvicorn\n",
        "import nest_asyncio\n",
        "from pyngrok import ngrok"
      ],
      "metadata": {
        "id": "4czoMxnEU-6M"
      },
      "execution_count": 132,
      "outputs": []
    },
    {
      "cell_type": "markdown",
      "source": [
        "## Funções e Classes"
      ],
      "metadata": {
        "id": "V-HA5y6JVOJo"
      }
    },
    {
      "cell_type": "code",
      "source": [
        "# Definir a classe BankFull para validar os dados de entrada\n",
        "class BankFull(BaseModel):\n",
        "    age: int\n",
        "    job: str\n",
        "    marital: str\n",
        "    education: str\n",
        "    default: str\n",
        "    balance: int\n",
        "    housing: str\n",
        "    loan: str\n",
        "    contact: str\n",
        "    day: int\n",
        "    month: str\n",
        "    duration: int\n",
        "    campaign: int\n",
        "    pdays: int\n",
        "    previous: int\n",
        "    poutcome: str\n",
        "    y: str\n"
      ],
      "metadata": {
        "id": "3QJpB-vRUkoF"
      },
      "execution_count": 133,
      "outputs": []
    },
    {
      "cell_type": "code",
      "source": [
        "def pre_processing_function(df):\n",
        "  y_exists = False\n",
        "  df = df.drop(['contact', 'month', 'day'], axis = 1)\n",
        "\n",
        "  for col, encoder in label_encoders.items():\n",
        "    df[col] = encoder.transform(df[col])\n",
        "\n",
        "  if 'y' in df.columns:\n",
        "    df[\"y\"] = df[\"y\"].map({\"no\": 0, \"yes\": 1})\n",
        "    Y = df[\"y\"]\n",
        "    df = df.drop(['y'], axis = 1)\n",
        "    y_exists = True\n",
        "\n",
        "  data_scaler_array = scaler_pipeline.transform(df)\n",
        "  data_scaler = pd.DataFrame(data_scaler_array, columns=scaler_pipeline.get_feature_names_out())\n",
        "\n",
        "  for col in data_scaler.columns:\n",
        "    if 'remainder' in col:\n",
        "      data_scaler[col] = data_scaler[col].astype(int)\n",
        "  X = data_scaler\n",
        "\n",
        "  if y_exists == True:\n",
        "     X['y'] = Y\n",
        "  return X"
      ],
      "metadata": {
        "id": "Aaashcnc3XeY"
      },
      "execution_count": 144,
      "outputs": []
    },
    {
      "cell_type": "code",
      "source": [
        "def prediction_df_function(df, pred):\n",
        "    df_pred = pd.concat([df, pd.DataFrame(pred, columns=['prediction'])], axis=1)\n",
        "    df_pred[\"prediction\"] = df_pred[\"prediction\"].map({0: \"no\", 1: \"yes\"})\n",
        "    return df_pred"
      ],
      "metadata": {
        "id": "URJDH3HMD_6x"
      },
      "execution_count": 161,
      "outputs": []
    },
    {
      "cell_type": "markdown",
      "source": [
        "## API"
      ],
      "metadata": {
        "id": "DD7IXicyVRTp"
      }
    },
    {
      "cell_type": "code",
      "source": [
        "# Abrindo o arquivo pickle contendo os objetos salvos\n",
        "with open('/content/drive/MyDrive/label_encoders.pkl', 'rb') as file:\n",
        "    label_encoders = pickle.load(file)\n",
        "\n",
        "with open('/content/drive/MyDrive/scaler_encoder.pkl', 'rb') as file:\n",
        "    scaler_pipeline = pickle.load(file)\n",
        "\n",
        "with open('/content/drive/MyDrive/random_forest_models.pkl', 'rb') as file:\n",
        "    rf_classifier = pickle.load(file)"
      ],
      "metadata": {
        "id": "L0rmhLKvVS8S"
      },
      "execution_count": 137,
      "outputs": []
    },
    {
      "cell_type": "code",
      "source": [
        "app = FastAPI()\n",
        "\n",
        "# Configuração dos templates\n",
        "templates = Jinja2Templates(directory=\"/content/templates\")\n",
        "\n",
        "# Rota para a página inicial\n",
        "@app.get(\"/\", response_class=HTMLResponse)\n",
        "async def root(request: Request):\n",
        "    return templates.TemplateResponse(\"index.html\", {\"request\": request})\n",
        "\n",
        "# Rota para a página de upload de CSV\n",
        "@app.get(\"/csv_form\", response_class=HTMLResponse)\n",
        "async def upload_csv(request: Request):\n",
        "    return templates.TemplateResponse(\"csv_form.html\", {\"request\": request})\n",
        "\n",
        "# Rota para a página de upload de CSV\n",
        "@app.get(\"/manual_form\", response_class=HTMLResponse)\n",
        "async def upload_csv(request: Request):\n",
        "    return templates.TemplateResponse(\"manual_form.html\", {\"request\": request})\n",
        "\n",
        "@app.post(\"/csv_prediction\")\n",
        "async def predict_post(request: Request, csv: UploadFile = File(...)):\n",
        "    # Ler o arquivo CSV enviado pelo usuário\n",
        "    contents = await csv.read()\n",
        "    csv_data = io.StringIO(contents.decode('utf-8'))\n",
        "    data = pd.read_csv(csv_data)\n",
        "    X = pre_processing_function(data.copy(deep = True))\n",
        "    predictions = rf_classifier.predict(X.drop(['y'], axis = True))\n",
        "    predictions_df = prediction_df_function(data, predictions)\n",
        "    return templates.TemplateResponse(\"csv_prediction.html\", {\"request\": request, \"predictions\": predictions_df})\n",
        "\n",
        "@app.post(\"/form_prediction\", response_class=HTMLResponse)\n",
        "async def form_to_dataframe(request: Request,\n",
        "                            age: int = Form(...),\n",
        "                            job: str = Form(...),\n",
        "                            marital: str = Form(...),\n",
        "                            education: str = Form(...),\n",
        "                            default: str = Form(...),\n",
        "                            balance: int = Form(...),\n",
        "                            housing: str = Form(...),\n",
        "                            loan: str = Form(...),\n",
        "                            contact: str = Form(...),\n",
        "                            day: int = Form(...),\n",
        "                            month: str = Form(...),\n",
        "                            duration: int = Form(...),\n",
        "                            campaign: int = Form(...),\n",
        "                            pdays: int = Form(...),\n",
        "                            previous: int = Form(...),\n",
        "                            poutcome: str = Form(...)):\n",
        "\n",
        "    # Criar um dicionário com os dados do formulário\n",
        "    form_data = {\n",
        "        'age': [age],\n",
        "        'job': [job],\n",
        "        'marital': [marital],\n",
        "        'education': [education],\n",
        "        'default': [default],\n",
        "        'balance': [balance],\n",
        "        'housing': [housing],\n",
        "        'loan': [loan],\n",
        "        'contact': [contact],\n",
        "        'day': [day],\n",
        "        'month': [month],\n",
        "        'duration': [duration],\n",
        "        'campaign': [campaign],\n",
        "        'pdays': [pdays],\n",
        "        'previous': [previous],\n",
        "        'poutcome': [poutcome],\n",
        "    }\n",
        "\n",
        "    # Criar um DataFrame a partir do dicionário\n",
        "    df_manual = pd.DataFrame(form_data)\n",
        "    X = pre_processing_function(df_manual.copy(deep = True))\n",
        "    predictions = rf_classifier.predict(X)\n",
        "    predictions_df = prediction_df_function(df_manual, predictions)\n",
        "    return templates.TemplateResponse(\"csv_prediction.html\", {\"request\": request, \"predictions\": predictions_df})\n",
        "\n",
        "@app.post(\"/predict_manual\")\n",
        "async def predict_post(request: Request):\n",
        "    # Ler os dados do dicionário JSON\n",
        "    json_data = await request.json()\n",
        "    data = pd.DataFrame(dict(json_data))\n",
        "    X = pre_processing_function(data.copy(deep = True))\n",
        "    predictions = rf_classifier.predict(X.drop(['y'], axis = True))\n",
        "    predictions_df = prediction_df_function(data, predictions)\n",
        "    return predictions_df.to_json()"
      ],
      "metadata": {
        "id": "akUA4gsM8aEl"
      },
      "execution_count": 173,
      "outputs": []
    },
    {
      "cell_type": "markdown",
      "source": [
        "## Executor da API"
      ],
      "metadata": {
        "id": "X_8X4zeBd5yM"
      }
    },
    {
      "cell_type": "code",
      "source": [
        "ngrok.set_auth_token(\"2fzLmwDRWdetrmLrZ1WKf8PDAbu_7eskZhSaJYjXPfXuEXwjC\")  # Substitua SEU_TOKEN_AQUI pelo seu token de autenticação\n",
        "\n",
        "ngrok_tunnel = ngrok.connect(8007)\n",
        "print('Public URL:', ngrok_tunnel.public_url)\n",
        "nest_asyncio.apply()\n",
        "uvicorn.run(app, port=8007)"
      ],
      "metadata": {
        "colab": {
          "base_uri": "https://localhost:8080/",
          "height": 495
        },
        "id": "OFs8gd2Ad7VJ",
        "outputId": "7248f008-4f57-4737-c352-45b2828871ab"
      },
      "execution_count": 174,
      "outputs": [
        {
          "output_type": "stream",
          "name": "stdout",
          "text": [
            "Public URL: https://2bec-35-221-162-179.ngrok-free.app\n"
          ]
        },
        {
          "output_type": "stream",
          "name": "stderr",
          "text": [
            "INFO:     Started server process [274]\n",
            "INFO:     Waiting for application startup.\n",
            "INFO:     Application startup complete.\n",
            "INFO:     Uvicorn running on http://127.0.0.1:8007 (Press CTRL+C to quit)\n"
          ]
        },
        {
          "output_type": "stream",
          "name": "stdout",
          "text": [
            "INFO:     34.145.150.199:0 - \"POST /predict_manual HTTP/1.1\" 200 OK\n"
          ]
        },
        {
          "output_type": "stream",
          "name": "stderr",
          "text": [
            "INFO:     Shutting down\n",
            "INFO:     Waiting for application shutdown.\n",
            "INFO:     Application shutdown complete.\n",
            "INFO:     Finished server process [274]\n"
          ]
        },
        {
          "output_type": "error",
          "ename": "KeyboardInterrupt",
          "evalue": "",
          "traceback": [
            "\u001b[0;31m---------------------------------------------------------------------------\u001b[0m",
            "\u001b[0;31mKeyboardInterrupt\u001b[0m                         Traceback (most recent call last)",
            "\u001b[0;32m<ipython-input-174-9820b500a978>\u001b[0m in \u001b[0;36m<cell line: 6>\u001b[0;34m()\u001b[0m\n\u001b[1;32m      4\u001b[0m \u001b[0mprint\u001b[0m\u001b[0;34m(\u001b[0m\u001b[0;34m'Public URL:'\u001b[0m\u001b[0;34m,\u001b[0m \u001b[0mngrok_tunnel\u001b[0m\u001b[0;34m.\u001b[0m\u001b[0mpublic_url\u001b[0m\u001b[0;34m)\u001b[0m\u001b[0;34m\u001b[0m\u001b[0;34m\u001b[0m\u001b[0m\n\u001b[1;32m      5\u001b[0m \u001b[0mnest_asyncio\u001b[0m\u001b[0;34m.\u001b[0m\u001b[0mapply\u001b[0m\u001b[0;34m(\u001b[0m\u001b[0;34m)\u001b[0m\u001b[0;34m\u001b[0m\u001b[0;34m\u001b[0m\u001b[0m\n\u001b[0;32m----> 6\u001b[0;31m \u001b[0muvicorn\u001b[0m\u001b[0;34m.\u001b[0m\u001b[0mrun\u001b[0m\u001b[0;34m(\u001b[0m\u001b[0mapp\u001b[0m\u001b[0;34m,\u001b[0m \u001b[0mport\u001b[0m\u001b[0;34m=\u001b[0m\u001b[0;36m8007\u001b[0m\u001b[0;34m)\u001b[0m\u001b[0;34m\u001b[0m\u001b[0;34m\u001b[0m\u001b[0m\n\u001b[0m",
            "\u001b[0;32m/usr/local/lib/python3.10/dist-packages/uvicorn/main.py\u001b[0m in \u001b[0;36mrun\u001b[0;34m(app, host, port, uds, fd, loop, http, ws, ws_max_size, ws_max_queue, ws_ping_interval, ws_ping_timeout, ws_per_message_deflate, lifespan, interface, reload, reload_dirs, reload_includes, reload_excludes, reload_delay, workers, env_file, log_config, log_level, access_log, proxy_headers, server_header, date_header, forwarded_allow_ips, root_path, limit_concurrency, backlog, limit_max_requests, timeout_keep_alive, timeout_graceful_shutdown, ssl_keyfile, ssl_certfile, ssl_keyfile_password, ssl_version, ssl_cert_reqs, ssl_ca_certs, ssl_ciphers, headers, use_colors, app_dir, factory, h11_max_incomplete_event_size)\u001b[0m\n\u001b[1;32m    573\u001b[0m         \u001b[0mMultiprocess\u001b[0m\u001b[0;34m(\u001b[0m\u001b[0mconfig\u001b[0m\u001b[0;34m,\u001b[0m \u001b[0mtarget\u001b[0m\u001b[0;34m=\u001b[0m\u001b[0mserver\u001b[0m\u001b[0;34m.\u001b[0m\u001b[0mrun\u001b[0m\u001b[0;34m,\u001b[0m \u001b[0msockets\u001b[0m\u001b[0;34m=\u001b[0m\u001b[0;34m[\u001b[0m\u001b[0msock\u001b[0m\u001b[0;34m]\u001b[0m\u001b[0;34m)\u001b[0m\u001b[0;34m.\u001b[0m\u001b[0mrun\u001b[0m\u001b[0;34m(\u001b[0m\u001b[0;34m)\u001b[0m\u001b[0;34m\u001b[0m\u001b[0;34m\u001b[0m\u001b[0m\n\u001b[1;32m    574\u001b[0m     \u001b[0;32melse\u001b[0m\u001b[0;34m:\u001b[0m\u001b[0;34m\u001b[0m\u001b[0;34m\u001b[0m\u001b[0m\n\u001b[0;32m--> 575\u001b[0;31m         \u001b[0mserver\u001b[0m\u001b[0;34m.\u001b[0m\u001b[0mrun\u001b[0m\u001b[0;34m(\u001b[0m\u001b[0;34m)\u001b[0m\u001b[0;34m\u001b[0m\u001b[0;34m\u001b[0m\u001b[0m\n\u001b[0m\u001b[1;32m    576\u001b[0m     \u001b[0;32mif\u001b[0m \u001b[0mconfig\u001b[0m\u001b[0;34m.\u001b[0m\u001b[0muds\u001b[0m \u001b[0;32mand\u001b[0m \u001b[0mos\u001b[0m\u001b[0;34m.\u001b[0m\u001b[0mpath\u001b[0m\u001b[0;34m.\u001b[0m\u001b[0mexists\u001b[0m\u001b[0;34m(\u001b[0m\u001b[0mconfig\u001b[0m\u001b[0;34m.\u001b[0m\u001b[0muds\u001b[0m\u001b[0;34m)\u001b[0m\u001b[0;34m:\u001b[0m\u001b[0;34m\u001b[0m\u001b[0;34m\u001b[0m\u001b[0m\n\u001b[1;32m    577\u001b[0m         \u001b[0mos\u001b[0m\u001b[0;34m.\u001b[0m\u001b[0mremove\u001b[0m\u001b[0;34m(\u001b[0m\u001b[0mconfig\u001b[0m\u001b[0;34m.\u001b[0m\u001b[0muds\u001b[0m\u001b[0;34m)\u001b[0m  \u001b[0;31m# pragma: py-win32\u001b[0m\u001b[0;34m\u001b[0m\u001b[0;34m\u001b[0m\u001b[0m\n",
            "\u001b[0;32m/usr/local/lib/python3.10/dist-packages/uvicorn/server.py\u001b[0m in \u001b[0;36mrun\u001b[0;34m(self, sockets)\u001b[0m\n\u001b[1;32m     63\u001b[0m     \u001b[0;32mdef\u001b[0m \u001b[0mrun\u001b[0m\u001b[0;34m(\u001b[0m\u001b[0mself\u001b[0m\u001b[0;34m,\u001b[0m \u001b[0msockets\u001b[0m\u001b[0;34m:\u001b[0m \u001b[0mlist\u001b[0m\u001b[0;34m[\u001b[0m\u001b[0msocket\u001b[0m\u001b[0;34m.\u001b[0m\u001b[0msocket\u001b[0m\u001b[0;34m]\u001b[0m \u001b[0;34m|\u001b[0m \u001b[0;32mNone\u001b[0m \u001b[0;34m=\u001b[0m \u001b[0;32mNone\u001b[0m\u001b[0;34m)\u001b[0m \u001b[0;34m->\u001b[0m \u001b[0;32mNone\u001b[0m\u001b[0;34m:\u001b[0m\u001b[0;34m\u001b[0m\u001b[0;34m\u001b[0m\u001b[0m\n\u001b[1;32m     64\u001b[0m         \u001b[0mself\u001b[0m\u001b[0;34m.\u001b[0m\u001b[0mconfig\u001b[0m\u001b[0;34m.\u001b[0m\u001b[0msetup_event_loop\u001b[0m\u001b[0;34m(\u001b[0m\u001b[0;34m)\u001b[0m\u001b[0;34m\u001b[0m\u001b[0;34m\u001b[0m\u001b[0m\n\u001b[0;32m---> 65\u001b[0;31m         \u001b[0;32mreturn\u001b[0m \u001b[0masyncio\u001b[0m\u001b[0;34m.\u001b[0m\u001b[0mrun\u001b[0m\u001b[0;34m(\u001b[0m\u001b[0mself\u001b[0m\u001b[0;34m.\u001b[0m\u001b[0mserve\u001b[0m\u001b[0;34m(\u001b[0m\u001b[0msockets\u001b[0m\u001b[0;34m=\u001b[0m\u001b[0msockets\u001b[0m\u001b[0;34m)\u001b[0m\u001b[0;34m)\u001b[0m\u001b[0;34m\u001b[0m\u001b[0;34m\u001b[0m\u001b[0m\n\u001b[0m\u001b[1;32m     66\u001b[0m \u001b[0;34m\u001b[0m\u001b[0m\n\u001b[1;32m     67\u001b[0m     \u001b[0;32masync\u001b[0m \u001b[0;32mdef\u001b[0m \u001b[0mserve\u001b[0m\u001b[0;34m(\u001b[0m\u001b[0mself\u001b[0m\u001b[0;34m,\u001b[0m \u001b[0msockets\u001b[0m\u001b[0;34m:\u001b[0m \u001b[0mlist\u001b[0m\u001b[0;34m[\u001b[0m\u001b[0msocket\u001b[0m\u001b[0;34m.\u001b[0m\u001b[0msocket\u001b[0m\u001b[0;34m]\u001b[0m \u001b[0;34m|\u001b[0m \u001b[0;32mNone\u001b[0m \u001b[0;34m=\u001b[0m \u001b[0;32mNone\u001b[0m\u001b[0;34m)\u001b[0m \u001b[0;34m->\u001b[0m \u001b[0;32mNone\u001b[0m\u001b[0;34m:\u001b[0m\u001b[0;34m\u001b[0m\u001b[0;34m\u001b[0m\u001b[0m\n",
            "\u001b[0;32m/usr/local/lib/python3.10/dist-packages/nest_asyncio.py\u001b[0m in \u001b[0;36mrun\u001b[0;34m(main, debug)\u001b[0m\n\u001b[1;32m     28\u001b[0m         \u001b[0mtask\u001b[0m \u001b[0;34m=\u001b[0m \u001b[0masyncio\u001b[0m\u001b[0;34m.\u001b[0m\u001b[0mensure_future\u001b[0m\u001b[0;34m(\u001b[0m\u001b[0mmain\u001b[0m\u001b[0;34m)\u001b[0m\u001b[0;34m\u001b[0m\u001b[0;34m\u001b[0m\u001b[0m\n\u001b[1;32m     29\u001b[0m         \u001b[0;32mtry\u001b[0m\u001b[0;34m:\u001b[0m\u001b[0;34m\u001b[0m\u001b[0;34m\u001b[0m\u001b[0m\n\u001b[0;32m---> 30\u001b[0;31m             \u001b[0;32mreturn\u001b[0m \u001b[0mloop\u001b[0m\u001b[0;34m.\u001b[0m\u001b[0mrun_until_complete\u001b[0m\u001b[0;34m(\u001b[0m\u001b[0mtask\u001b[0m\u001b[0;34m)\u001b[0m\u001b[0;34m\u001b[0m\u001b[0;34m\u001b[0m\u001b[0m\n\u001b[0m\u001b[1;32m     31\u001b[0m         \u001b[0;32mfinally\u001b[0m\u001b[0;34m:\u001b[0m\u001b[0;34m\u001b[0m\u001b[0;34m\u001b[0m\u001b[0m\n\u001b[1;32m     32\u001b[0m             \u001b[0;32mif\u001b[0m \u001b[0;32mnot\u001b[0m \u001b[0mtask\u001b[0m\u001b[0;34m.\u001b[0m\u001b[0mdone\u001b[0m\u001b[0;34m(\u001b[0m\u001b[0;34m)\u001b[0m\u001b[0;34m:\u001b[0m\u001b[0;34m\u001b[0m\u001b[0;34m\u001b[0m\u001b[0m\n",
            "\u001b[0;32m/usr/local/lib/python3.10/dist-packages/nest_asyncio.py\u001b[0m in \u001b[0;36mrun_until_complete\u001b[0;34m(self, future)\u001b[0m\n\u001b[1;32m     90\u001b[0m                 \u001b[0mf\u001b[0m\u001b[0;34m.\u001b[0m\u001b[0m_log_destroy_pending\u001b[0m \u001b[0;34m=\u001b[0m \u001b[0;32mFalse\u001b[0m\u001b[0;34m\u001b[0m\u001b[0;34m\u001b[0m\u001b[0m\n\u001b[1;32m     91\u001b[0m             \u001b[0;32mwhile\u001b[0m \u001b[0;32mnot\u001b[0m \u001b[0mf\u001b[0m\u001b[0;34m.\u001b[0m\u001b[0mdone\u001b[0m\u001b[0;34m(\u001b[0m\u001b[0;34m)\u001b[0m\u001b[0;34m:\u001b[0m\u001b[0;34m\u001b[0m\u001b[0;34m\u001b[0m\u001b[0m\n\u001b[0;32m---> 92\u001b[0;31m                 \u001b[0mself\u001b[0m\u001b[0;34m.\u001b[0m\u001b[0m_run_once\u001b[0m\u001b[0;34m(\u001b[0m\u001b[0;34m)\u001b[0m\u001b[0;34m\u001b[0m\u001b[0;34m\u001b[0m\u001b[0m\n\u001b[0m\u001b[1;32m     93\u001b[0m                 \u001b[0;32mif\u001b[0m \u001b[0mself\u001b[0m\u001b[0;34m.\u001b[0m\u001b[0m_stopping\u001b[0m\u001b[0;34m:\u001b[0m\u001b[0;34m\u001b[0m\u001b[0;34m\u001b[0m\u001b[0m\n\u001b[1;32m     94\u001b[0m                     \u001b[0;32mbreak\u001b[0m\u001b[0;34m\u001b[0m\u001b[0;34m\u001b[0m\u001b[0m\n",
            "\u001b[0;32m/usr/local/lib/python3.10/dist-packages/nest_asyncio.py\u001b[0m in \u001b[0;36m_run_once\u001b[0;34m(self)\u001b[0m\n\u001b[1;32m    131\u001b[0m \u001b[0;34m\u001b[0m\u001b[0m\n\u001b[1;32m    132\u001b[0m                 \u001b[0;32mtry\u001b[0m\u001b[0;34m:\u001b[0m\u001b[0;34m\u001b[0m\u001b[0;34m\u001b[0m\u001b[0m\n\u001b[0;32m--> 133\u001b[0;31m                     \u001b[0mhandle\u001b[0m\u001b[0;34m.\u001b[0m\u001b[0m_run\u001b[0m\u001b[0;34m(\u001b[0m\u001b[0;34m)\u001b[0m\u001b[0;34m\u001b[0m\u001b[0;34m\u001b[0m\u001b[0m\n\u001b[0m\u001b[1;32m    134\u001b[0m                 \u001b[0;32mfinally\u001b[0m\u001b[0;34m:\u001b[0m\u001b[0;34m\u001b[0m\u001b[0;34m\u001b[0m\u001b[0m\n\u001b[1;32m    135\u001b[0m                     \u001b[0;31m# restore the current task\u001b[0m\u001b[0;34m\u001b[0m\u001b[0;34m\u001b[0m\u001b[0m\n",
            "\u001b[0;32m/usr/lib/python3.10/asyncio/events.py\u001b[0m in \u001b[0;36m_run\u001b[0;34m(self)\u001b[0m\n\u001b[1;32m     78\u001b[0m     \u001b[0;32mdef\u001b[0m \u001b[0m_run\u001b[0m\u001b[0;34m(\u001b[0m\u001b[0mself\u001b[0m\u001b[0;34m)\u001b[0m\u001b[0;34m:\u001b[0m\u001b[0;34m\u001b[0m\u001b[0;34m\u001b[0m\u001b[0m\n\u001b[1;32m     79\u001b[0m         \u001b[0;32mtry\u001b[0m\u001b[0;34m:\u001b[0m\u001b[0;34m\u001b[0m\u001b[0;34m\u001b[0m\u001b[0m\n\u001b[0;32m---> 80\u001b[0;31m             \u001b[0mself\u001b[0m\u001b[0;34m.\u001b[0m\u001b[0m_context\u001b[0m\u001b[0;34m.\u001b[0m\u001b[0mrun\u001b[0m\u001b[0;34m(\u001b[0m\u001b[0mself\u001b[0m\u001b[0;34m.\u001b[0m\u001b[0m_callback\u001b[0m\u001b[0;34m,\u001b[0m \u001b[0;34m*\u001b[0m\u001b[0mself\u001b[0m\u001b[0;34m.\u001b[0m\u001b[0m_args\u001b[0m\u001b[0;34m)\u001b[0m\u001b[0;34m\u001b[0m\u001b[0;34m\u001b[0m\u001b[0m\n\u001b[0m\u001b[1;32m     81\u001b[0m         \u001b[0;32mexcept\u001b[0m \u001b[0;34m(\u001b[0m\u001b[0mSystemExit\u001b[0m\u001b[0;34m,\u001b[0m \u001b[0mKeyboardInterrupt\u001b[0m\u001b[0;34m)\u001b[0m\u001b[0;34m:\u001b[0m\u001b[0;34m\u001b[0m\u001b[0;34m\u001b[0m\u001b[0m\n\u001b[1;32m     82\u001b[0m             \u001b[0;32mraise\u001b[0m\u001b[0;34m\u001b[0m\u001b[0;34m\u001b[0m\u001b[0m\n",
            "\u001b[0;32m/usr/lib/python3.10/asyncio/tasks.py\u001b[0m in \u001b[0;36m__wakeup\u001b[0;34m(self, future)\u001b[0m\n\u001b[1;32m    313\u001b[0m             \u001b[0;31m# instead of `__next__()`, which is slower for futures\u001b[0m\u001b[0;34m\u001b[0m\u001b[0;34m\u001b[0m\u001b[0m\n\u001b[1;32m    314\u001b[0m             \u001b[0;31m# that return non-generator iterators from their `__iter__`.\u001b[0m\u001b[0;34m\u001b[0m\u001b[0;34m\u001b[0m\u001b[0m\n\u001b[0;32m--> 315\u001b[0;31m             \u001b[0mself\u001b[0m\u001b[0;34m.\u001b[0m\u001b[0m__step\u001b[0m\u001b[0;34m(\u001b[0m\u001b[0;34m)\u001b[0m\u001b[0;34m\u001b[0m\u001b[0;34m\u001b[0m\u001b[0m\n\u001b[0m\u001b[1;32m    316\u001b[0m         \u001b[0mself\u001b[0m \u001b[0;34m=\u001b[0m \u001b[0;32mNone\u001b[0m  \u001b[0;31m# Needed to break cycles when an exception occurs.\u001b[0m\u001b[0;34m\u001b[0m\u001b[0;34m\u001b[0m\u001b[0m\n\u001b[1;32m    317\u001b[0m \u001b[0;34m\u001b[0m\u001b[0m\n",
            "\u001b[0;32m/usr/lib/python3.10/asyncio/tasks.py\u001b[0m in \u001b[0;36m__step\u001b[0;34m(***failed resolving arguments***)\u001b[0m\n\u001b[1;32m    230\u001b[0m                 \u001b[0;31m# We use the `send` method directly, because coroutines\u001b[0m\u001b[0;34m\u001b[0m\u001b[0;34m\u001b[0m\u001b[0m\n\u001b[1;32m    231\u001b[0m                 \u001b[0;31m# don't have `__iter__` and `__next__` methods.\u001b[0m\u001b[0;34m\u001b[0m\u001b[0;34m\u001b[0m\u001b[0m\n\u001b[0;32m--> 232\u001b[0;31m                 \u001b[0mresult\u001b[0m \u001b[0;34m=\u001b[0m \u001b[0mcoro\u001b[0m\u001b[0;34m.\u001b[0m\u001b[0msend\u001b[0m\u001b[0;34m(\u001b[0m\u001b[0;32mNone\u001b[0m\u001b[0;34m)\u001b[0m\u001b[0;34m\u001b[0m\u001b[0;34m\u001b[0m\u001b[0m\n\u001b[0m\u001b[1;32m    233\u001b[0m             \u001b[0;32melse\u001b[0m\u001b[0;34m:\u001b[0m\u001b[0;34m\u001b[0m\u001b[0;34m\u001b[0m\u001b[0m\n\u001b[1;32m    234\u001b[0m                 \u001b[0mresult\u001b[0m \u001b[0;34m=\u001b[0m \u001b[0mcoro\u001b[0m\u001b[0;34m.\u001b[0m\u001b[0mthrow\u001b[0m\u001b[0;34m(\u001b[0m\u001b[0mexc\u001b[0m\u001b[0;34m)\u001b[0m\u001b[0;34m\u001b[0m\u001b[0;34m\u001b[0m\u001b[0m\n",
            "\u001b[0;32m/usr/local/lib/python3.10/dist-packages/uvicorn/server.py\u001b[0m in \u001b[0;36mserve\u001b[0;34m(self, sockets)\u001b[0m\n\u001b[1;32m     66\u001b[0m \u001b[0;34m\u001b[0m\u001b[0m\n\u001b[1;32m     67\u001b[0m     \u001b[0;32masync\u001b[0m \u001b[0;32mdef\u001b[0m \u001b[0mserve\u001b[0m\u001b[0;34m(\u001b[0m\u001b[0mself\u001b[0m\u001b[0;34m,\u001b[0m \u001b[0msockets\u001b[0m\u001b[0;34m:\u001b[0m \u001b[0mlist\u001b[0m\u001b[0;34m[\u001b[0m\u001b[0msocket\u001b[0m\u001b[0;34m.\u001b[0m\u001b[0msocket\u001b[0m\u001b[0;34m]\u001b[0m \u001b[0;34m|\u001b[0m \u001b[0;32mNone\u001b[0m \u001b[0;34m=\u001b[0m \u001b[0;32mNone\u001b[0m\u001b[0;34m)\u001b[0m \u001b[0;34m->\u001b[0m \u001b[0;32mNone\u001b[0m\u001b[0;34m:\u001b[0m\u001b[0;34m\u001b[0m\u001b[0;34m\u001b[0m\u001b[0m\n\u001b[0;32m---> 68\u001b[0;31m         \u001b[0;32mwith\u001b[0m \u001b[0mself\u001b[0m\u001b[0;34m.\u001b[0m\u001b[0mcapture_signals\u001b[0m\u001b[0;34m(\u001b[0m\u001b[0;34m)\u001b[0m\u001b[0;34m:\u001b[0m\u001b[0;34m\u001b[0m\u001b[0;34m\u001b[0m\u001b[0m\n\u001b[0m\u001b[1;32m     69\u001b[0m             \u001b[0;32mawait\u001b[0m \u001b[0mself\u001b[0m\u001b[0;34m.\u001b[0m\u001b[0m_serve\u001b[0m\u001b[0;34m(\u001b[0m\u001b[0msockets\u001b[0m\u001b[0;34m)\u001b[0m\u001b[0;34m\u001b[0m\u001b[0;34m\u001b[0m\u001b[0m\n\u001b[1;32m     70\u001b[0m \u001b[0;34m\u001b[0m\u001b[0m\n",
            "\u001b[0;32m/usr/lib/python3.10/contextlib.py\u001b[0m in \u001b[0;36m__exit__\u001b[0;34m(self, typ, value, traceback)\u001b[0m\n\u001b[1;32m    140\u001b[0m         \u001b[0;32mif\u001b[0m \u001b[0mtyp\u001b[0m \u001b[0;32mis\u001b[0m \u001b[0;32mNone\u001b[0m\u001b[0;34m:\u001b[0m\u001b[0;34m\u001b[0m\u001b[0;34m\u001b[0m\u001b[0m\n\u001b[1;32m    141\u001b[0m             \u001b[0;32mtry\u001b[0m\u001b[0;34m:\u001b[0m\u001b[0;34m\u001b[0m\u001b[0;34m\u001b[0m\u001b[0m\n\u001b[0;32m--> 142\u001b[0;31m                 \u001b[0mnext\u001b[0m\u001b[0;34m(\u001b[0m\u001b[0mself\u001b[0m\u001b[0;34m.\u001b[0m\u001b[0mgen\u001b[0m\u001b[0;34m)\u001b[0m\u001b[0;34m\u001b[0m\u001b[0;34m\u001b[0m\u001b[0m\n\u001b[0m\u001b[1;32m    143\u001b[0m             \u001b[0;32mexcept\u001b[0m \u001b[0mStopIteration\u001b[0m\u001b[0;34m:\u001b[0m\u001b[0;34m\u001b[0m\u001b[0;34m\u001b[0m\u001b[0m\n\u001b[1;32m    144\u001b[0m                 \u001b[0;32mreturn\u001b[0m \u001b[0;32mFalse\u001b[0m\u001b[0;34m\u001b[0m\u001b[0;34m\u001b[0m\u001b[0m\n",
            "\u001b[0;32m/usr/local/lib/python3.10/dist-packages/uvicorn/server.py\u001b[0m in \u001b[0;36mcapture_signals\u001b[0;34m(self)\u001b[0m\n\u001b[1;32m    326\u001b[0m         \u001b[0;31m# done LIFO, see https://stackoverflow.com/questions/48434964\u001b[0m\u001b[0;34m\u001b[0m\u001b[0;34m\u001b[0m\u001b[0m\n\u001b[1;32m    327\u001b[0m         \u001b[0;32mfor\u001b[0m \u001b[0mcaptured_signal\u001b[0m \u001b[0;32min\u001b[0m \u001b[0mreversed\u001b[0m\u001b[0;34m(\u001b[0m\u001b[0mself\u001b[0m\u001b[0;34m.\u001b[0m\u001b[0m_captured_signals\u001b[0m\u001b[0;34m)\u001b[0m\u001b[0;34m:\u001b[0m\u001b[0;34m\u001b[0m\u001b[0;34m\u001b[0m\u001b[0m\n\u001b[0;32m--> 328\u001b[0;31m             \u001b[0msignal\u001b[0m\u001b[0;34m.\u001b[0m\u001b[0mraise_signal\u001b[0m\u001b[0;34m(\u001b[0m\u001b[0mcaptured_signal\u001b[0m\u001b[0;34m)\u001b[0m\u001b[0;34m\u001b[0m\u001b[0;34m\u001b[0m\u001b[0m\n\u001b[0m\u001b[1;32m    329\u001b[0m \u001b[0;34m\u001b[0m\u001b[0m\n\u001b[1;32m    330\u001b[0m     \u001b[0;32mdef\u001b[0m \u001b[0mhandle_exit\u001b[0m\u001b[0;34m(\u001b[0m\u001b[0mself\u001b[0m\u001b[0;34m,\u001b[0m \u001b[0msig\u001b[0m\u001b[0;34m:\u001b[0m \u001b[0mint\u001b[0m\u001b[0;34m,\u001b[0m \u001b[0mframe\u001b[0m\u001b[0;34m:\u001b[0m \u001b[0mFrameType\u001b[0m \u001b[0;34m|\u001b[0m \u001b[0;32mNone\u001b[0m\u001b[0;34m)\u001b[0m \u001b[0;34m->\u001b[0m \u001b[0;32mNone\u001b[0m\u001b[0;34m:\u001b[0m\u001b[0;34m\u001b[0m\u001b[0;34m\u001b[0m\u001b[0m\n",
            "\u001b[0;31mKeyboardInterrupt\u001b[0m: "
          ]
        }
      ]
    },
    {
      "cell_type": "code",
      "source": [
        "!kill -9 \"$(pgrep ngrok)\"\n",
        "!kill -9 $(pgrep flask)\n",
        "!pkill -9 flask\n",
        "!pkill uvicorn"
      ],
      "metadata": {
        "id": "dwqwy2Uypk7k",
        "outputId": "48b8c6ad-a438-482a-caac-55c99c7270f7",
        "colab": {
          "base_uri": "https://localhost:8080/"
        }
      },
      "execution_count": 101,
      "outputs": [
        {
          "output_type": "stream",
          "name": "stdout",
          "text": [
            "/bin/bash: line 1: kill: `': not a pid or valid job spec\n",
            "kill: usage: kill [-s sigspec | -n signum | -sigspec] pid | jobspec ... or kill -l [sigspec]\n"
          ]
        }
      ]
    }
  ]
}